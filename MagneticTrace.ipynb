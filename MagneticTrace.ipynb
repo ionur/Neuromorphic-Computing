{
 "cells": [
  {
   "cell_type": "code",
   "execution_count": null,
   "metadata": {},
   "outputs": [],
   "source": [
    "import torch\n",
    "import torch.nn.functional as F\n",
    "from torch.utils.data import Dataset, DataLoader"
   ]
  },
  {
   "cell_type": "code",
   "execution_count": null,
   "metadata": {},
   "outputs": [],
   "source": [
    "class MagneticTrace(Dataset):\n",
    "    def __init__(self, mag_traces, labels, transform=None):\n",
    "        self.mag_traces = mag_traces\n",
    "        self.transform = transform\n",
    "        self.labels = labels\n",
    "\n",
    "    def __len__(self):\n",
    "        return len(self.mag_traces)\n",
    "\n",
    "    def __getitem__(self, index):\n",
    "        label = self.labels[index]\n",
    "        sample = torch.tensor(self.mag_traces[index])\n",
    "        sample = torch.transpose(sample,0,1)\n",
    "        if self.transform:\n",
    "            new_sample = []\n",
    "            for i in range(len(sample)):\n",
    "                new_sample.append(self.transform(sample[i]))\n",
    "            sample = torch.stack(new_sample,0)\n",
    "        return (sample, label)"
   ]
  },
  {
   "cell_type": "code",
   "execution_count": null,
   "metadata": {},
   "outputs": [],
   "source": [
    "class MagneticTrace_Mod(Dataset):\n",
    "    def __init__(self, mag_traces, labels, transform=None):\n",
    "        self.mag_traces = mag_traces\n",
    "        self.transform = transform\n",
    "        self.labels = labels\n",
    "\n",
    "    def __len__(self):\n",
    "        return len(self.mag_traces)\n",
    "\n",
    "    def __getitem__(self, index):\n",
    "        label = self.labels[index]\n",
    "        sample = torch.tensor(self.mag_traces[index])\n",
    "        if self.transform:\n",
    "            new_sample = []\n",
    "            for row in sample:\n",
    "                new_sample.append(self.transform(row))\n",
    "            sample = torch.stack(new_sample,0)\n",
    "        return (sample, label)"
   ]
  }
 ],
 "metadata": {
  "kernelspec": {
   "display_name": "Python 3",
   "language": "python",
   "name": "python3"
  },
  "language_info": {
   "codemirror_mode": {
    "name": "ipython",
    "version": 3
   },
   "file_extension": ".py",
   "mimetype": "text/x-python",
   "name": "python",
   "nbconvert_exporter": "python",
   "pygments_lexer": "ipython3",
   "version": "3.8.5"
  }
 },
 "nbformat": 4,
 "nbformat_minor": 4
}
