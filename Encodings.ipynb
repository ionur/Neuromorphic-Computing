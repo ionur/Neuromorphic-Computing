{
 "cells": [
  {
   "cell_type": "code",
   "execution_count": 4,
   "metadata": {},
   "outputs": [],
   "source": [
    "### Importing libraries ###\n",
    "\n",
    "import numpy as np\n",
    "import matplotlib.pyplot as plt\n",
    "\n",
    "import torch\n",
    "import torch.nn.functional as F\n",
    "from torch.utils.data import Dataset, DataLoader\n",
    "from torch.distributions.bernoulli import Bernoulli\n",
    "\n",
    "import torchvision\n",
    "from torchvision.datasets import MNIST\n",
    "from torchvision.datasets import FashionMNIST\n",
    "from torchvision import transforms\n",
    "\n",
    "import matplotlib.pyplot as plt\n",
    "import time"
   ]
  },
  {
   "cell_type": "code",
   "execution_count": 276,
   "metadata": {},
   "outputs": [],
   "source": [
    "class PosNegMulti(object):\n",
    "    def __init__(self, t_max, max_pos, max_neg, cut_th):\n",
    "        self.t_max = t_max\n",
    "        self.max_pos = max_pos\n",
    "        self.max_neg = max_neg\n",
    "        self.cut_th = cut_th\n",
    "    \n",
    "    def __call__(self, tensor):\n",
    "        pos_bins = torch.linspace(self.max_pos, self.cut_th, steps=self.t_max + 1)\n",
    "        neg_bins = torch.linspace(self.max_neg, self.cut_th, steps=self.t_max + 1)\n",
    "        \n",
    "        datasize = tensor.shape[0]   \n",
    "        \n",
    "        #first half is positive amplitude only\n",
    "        #second half is negative amplitude only\n",
    "        output = torch.ones(datasize*2) * float('inf')\n",
    "\n",
    "        pos_bins = pos_bins.repeat(datasize,1)\n",
    "        neg_bins = neg_bins.repeat(datasize,1)\n",
    "        data_tr = tensor.reshape((datasize,1))\n",
    "        \n",
    "        #boundaries stay the same\n",
    "        v1,i1 = ((data_tr - pos_bins) == 0).long().max(1)\n",
    "        v2,i2 = ((neg_bins - data_tr) == 0).long().max(1)\n",
    "\n",
    "        #non-boundaries go to the previous bin\n",
    "        v,i3 = ((data_tr - pos_bins) > 0).long().max(1)\n",
    "        v,i4 = ((neg_bins - data_tr) > 0).long().max(1)\n",
    "        i3 -= 1 \n",
    "        i4 -= 1\n",
    "        \n",
    "        i1[v1 == 0] = i3[v1 == 0]\n",
    "        i2[v2 == 0] = i4[v2 == 0]\n",
    "        \n",
    "        output[:datasize][tensor > self.cut_th] = i1[tensor > self.cut_th].float()\n",
    "        output[datasize:][tensor < -self.cut_th] =  i2[tensor < -self.cut_th].float()\n",
    "\n",
    "        return output"
   ]
  },
  {
   "cell_type": "code",
   "execution_count": 581,
   "metadata": {},
   "outputs": [],
   "source": [
    "class BinEncoding(object):\n",
    "    def __init__(self, resolution, tmax, max_pos, max_neg):\n",
    "        self.resolution = resolution\n",
    "        self.max_pos = max_pos\n",
    "        self.max_neg = max_neg\n",
    "        self.tmax = tmax\n",
    "        \n",
    "    def __call__(self, tensor):\n",
    "        datasize = tensor.shape[0]\n",
    "        pos_bins = torch.linspace(0, self.max_pos, steps=self.resolution + 1)\n",
    "        neg_bins = torch.linspace(0, self.max_neg, steps=self.resolution + 1)\n",
    "        time_bin = torch.cat((torch.linspace(0, self.tmax, steps=self.resolution), \n",
    "                              torch.linspace(self.tmax, 0, steps=self.resolution)))\n",
    "        shift    = torch.tensor([i * self.resolution*2 for i in range(datasize)])\n",
    "    \n",
    "        bin_index = torch.ones(datasize) * float('inf')\n",
    "\n",
    "        output = torch.ones(datasize*self.resolution*2) * float('inf')\n",
    "\n",
    "        pos_bins = pos_bins.repeat(datasize,1)\n",
    "        neg_bins = neg_bins.repeat(datasize,1)\n",
    "        data_tr = tensor.reshape((datasize,1))\n",
    "        \n",
    "        #values assign to the previous bins\n",
    "        v,i1 = ((pos_bins - data_tr) > 0).long().max(1)\n",
    "        v,i2 = ((data_tr - neg_bins) > 0).long().max(1)  \n",
    "        i1 -= 1 \n",
    "        i2 -= 1\n",
    "\n",
    "        bin_index[tensor > 0] = self.resolution - 1 - i1[tensor > 0].float() \n",
    "        bin_index[tensor < 0] =  i2[tensor < 0].float() + self.resolution\n",
    "        \n",
    "        bin_index_shift = bin_index + shift\n",
    "        \n",
    "        output[bin_index_shift[bin_index_shift != float('inf')].long()] = time_bin[bin_index[bin_index != float('inf')].long()]\n",
    "        return output"
   ]
  },
  {
   "cell_type": "code",
   "execution_count": 202,
   "metadata": {},
   "outputs": [],
   "source": [
    "### Preprocessing ###\n",
    "\n",
    "class PosNeg(object):\n",
    "    def __init__(self, pn_threshold):\n",
    "        self.pn_thresh = pn_threshold\n",
    "        \n",
    "    def __call__(self, tensor):\n",
    "        maxt                                    = torch.max(tensor)\n",
    "        tensor[tensor >= (self.pn_thresh*maxt)] = maxt\n",
    "        tensor[tensor < (self.pn_thresh*maxt)]  = 0\n",
    "        \n",
    "        tensor                                  = tensor - maxt\n",
    "        tensor[tensor == -maxt]                 = float('Inf')\n",
    "        tensor_neg                              = tensor.clone()\n",
    "        tensor_neg[tensor_neg == 0]             = 1\n",
    "        tensor_neg[tensor_neg == float('Inf')]  = 0\n",
    "        tensor_neg[tensor_neg == 1]             = float('Inf')\n",
    "        \n",
    "        out                    = torch.cat([tensor,tensor_neg], dim=0)\n",
    "        \n",
    "        return out\n",
    "\n",
    "\n",
    "\n"
   ]
  },
  {
   "cell_type": "code",
   "execution_count": null,
   "metadata": {},
   "outputs": [],
   "source": []
  },
  {
   "cell_type": "code",
   "execution_count": 585,
   "metadata": {},
   "outputs": [
    {
     "data": {
      "text/plain": [
       "tensor([inf, inf, inf, inf, inf, inf, inf, inf, inf, 0.])"
      ]
     },
     "execution_count": 585,
     "metadata": {},
     "output_type": "execute_result"
    }
   ],
   "source": [
    "tmax = 4\n",
    "b = BinEncoding(tmax+1, 4, 10, -10)\n",
    "\n",
    "b(torch.tensor([-9]))\n"
   ]
  },
  {
   "cell_type": "code",
   "execution_count": 614,
   "metadata": {},
   "outputs": [
    {
     "name": "stdout",
     "output_type": "stream",
     "text": [
      "tensor([ 1,  3,  4,  5,  6,  7,  8,  9, 12])\n",
      "tensor([[ True, False,  True],\n",
      "        [ True,  True,  True],\n",
      "        [ True,  True,  True],\n",
      "        [False, False,  True]])\n",
      "tensor([[ 1,  2,  3],\n",
      "        [ 4,  5,  6],\n",
      "        [ 7,  8,  9],\n",
      "        [10, 11, 12]])\n"
     ]
    },
    {
     "data": {
      "text/plain": [
       "tensor([ 3,  5,  6,  8,  9, 12])"
      ]
     },
     "execution_count": 614,
     "metadata": {},
     "output_type": "execute_result"
    }
   ],
   "source": [
    "w = torch.tensor([[1,2,3],[4,5,6],[7,8,9],[10,11,12]])\n",
    "intimes = torch.tensor([1.0,2.0, 0.0])\n",
    "outtimes = torch.tensor([1.0,5.0,6.0, 0.0])\n",
    "intimes         = torch.flatten(intimes)\n",
    "q               = outtimes.shape[0]\n",
    "p               = intimes.shape[0]\n",
    "ec_in           = intimes.repeat(q,1)\n",
    "li_out          = outtimes.repeat(p,1).permute(1,0)\n",
    "\n",
    "print(w[(ec_in!=float('Inf'))*(li_out!=float('Inf'))*(ec_in<=li_out)])\n",
    "print((ec_in!=float('Inf'))*(li_out!=float('Inf'))*(ec_in<=li_out))\n",
    "\n",
    "print(w)\n",
    "w[:,1:][((ec_in!=float('Inf'))*(li_out!=float('Inf'))*(ec_in<=li_out))[:,1:]]"
   ]
  },
  {
   "cell_type": "code",
   "execution_count": null,
   "metadata": {},
   "outputs": [],
   "source": []
  },
  {
   "cell_type": "code",
   "execution_count": null,
   "metadata": {},
   "outputs": [],
   "source": []
  }
 ],
 "metadata": {
  "kernelspec": {
   "display_name": "Python 3",
   "language": "python",
   "name": "python3"
  },
  "language_info": {
   "codemirror_mode": {
    "name": "ipython",
    "version": 3
   },
   "file_extension": ".py",
   "mimetype": "text/x-python",
   "name": "python",
   "nbconvert_exporter": "python",
   "pygments_lexer": "ipython3",
   "version": "3.8.5"
  }
 },
 "nbformat": 4,
 "nbformat_minor": 4
}
