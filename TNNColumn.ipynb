{
 "cells": [
  {
   "cell_type": "code",
   "execution_count": null,
   "metadata": {},
   "outputs": [],
   "source": [
    "### Importing libraries ###\n",
    "\n",
    "import numpy as np\n",
    "import matplotlib.pyplot as plt\n",
    "\n",
    "import torch\n",
    "import torch.nn.functional as F\n",
    "from torch.utils.data import Dataset, DataLoader\n",
    "from torch.distributions.bernoulli import Bernoulli\n",
    "\n",
    "import torchvision\n",
    "from torchvision.datasets import MNIST\n",
    "from torchvision.datasets import FashionMNIST\n",
    "from torchvision import transforms\n",
    "\n",
    "import matplotlib.pyplot as plt\n",
    "import time\n",
    "import pickle as pkl\n",
    "\n",
    "import import_ipynb\n",
    "from TNN import *"
   ]
  },
  {
   "cell_type": "code",
   "execution_count": null,
   "metadata": {},
   "outputs": [],
   "source": [
    "### A single TNN column with EC, LI and STDP ###\n",
    "\n",
    "class TNNColumn():\n",
    "    def __init__(self, tin_max, p, q, wres, theta, ntype, stdp, stdp_random, w_init):\n",
    "        self.time       = tin_max\n",
    "        self.wmax       = 2**(wres)-1\n",
    "        self.p          = p\n",
    "        self.q          = q\n",
    "        self.wres       = wres\n",
    "        self.theta      = theta\n",
    "        self.ntype      = ntype\n",
    "        self.w_init     = w_init\n",
    "        self.ec         = ExcitatoryColumn(self.time, self.p, self.q, self.wres, self.theta, self.ntype, self.w_init)\n",
    "        if stdp_random:\n",
    "            if stdp == \"stdp\":\n",
    "                self.stdp   = STDP(wres)\n",
    "            elif stdp == \"rstdp\":\n",
    "                self.stdp   = RSTDP(wres)\n",
    "        else:\n",
    "            if stdp == \"stdp\":\n",
    "                self.stdp   = STDP_Det(wres)\n",
    "            elif stdp == \"rstdp\":\n",
    "                self.stdp   = RSTDP_Det(wres)\n",
    "            elif stdp == \"stdp_tmod\":\n",
    "                self.stdp   = STDP_Det_TMod(wres, self.time + self.wmax)\n",
    "            elif stdp == \"stdp_smod\":\n",
    "                self.stdp   = STDP_Det_SMod(wres, self.time + self.wmax)\n",
    "            elif stdp == \"rstdp_tmod\":\n",
    "                self.stdp   = RSTDP_Det_TMod(wres, self.time + self.wmax)    \n",
    "            elif stdp == \"stdp_recc\":\n",
    "                self.stdp   = STDP_Det_Recc(wres, self.time + self.wmax)\n",
    "        self.inhib      = LateralInhibition()\n",
    "    def __call__(self, data, k):\n",
    "        data            = torch.flatten(data)\n",
    "        ec_out          = self.ec(data)\n",
    "        li_out, winidx  = self.inhib(ec_out, k)\n",
    "        return li_out, winidx"
   ]
  },
  {
   "cell_type": "code",
   "execution_count": null,
   "metadata": {},
   "outputs": [],
   "source": []
  },
  {
   "cell_type": "code",
   "execution_count": null,
   "metadata": {},
   "outputs": [],
   "source": []
  }
 ],
 "metadata": {
  "kernelspec": {
   "display_name": "Python 3",
   "language": "python",
   "name": "python3"
  },
  "language_info": {
   "codemirror_mode": {
    "name": "ipython",
    "version": 3
   },
   "file_extension": ".py",
   "mimetype": "text/x-python",
   "name": "python",
   "nbconvert_exporter": "python",
   "pygments_lexer": "ipython3",
   "version": "3.8.5"
  }
 },
 "nbformat": 4,
 "nbformat_minor": 4
}
